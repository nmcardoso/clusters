{
 "cells": [
  {
   "cell_type": "code",
   "execution_count": 1,
   "metadata": {},
   "outputs": [],
   "source": [
    "import pandas as pd\n",
    "import numpy as np\n",
    "import matplotlib.pyplot as plt\n",
    "from pathlib import Path\n",
    "\n",
    "from tqdm import tqdm\n",
    "\n",
    "from spluslib import SplusService, ImageType\n",
    "from xmatchlib import XTable, CrossMatch"
   ]
  },
  {
   "cell_type": "code",
   "execution_count": 24,
   "metadata": {},
   "outputs": [],
   "source": [
    "def create_spec_tables(clusters):\n",
    "  df_spec = pd.read_csv('SpecZ_Catalogue_20230830.csv')\n",
    "  paths = [Path(f'outputs/cluster_{c}.csv') for c in clusters]\n",
    "  \n",
    "  for path in tqdm(paths):\n",
    "    xt_base = XTable(ra='RA', dec='DEC', path=path)\n",
    "    xt_spec = XTable(ra='RA', dec='DEC', df=df_spec[df_spec['z'] < 0.1])\n",
    "    \n",
    "    cm = CrossMatch()\n",
    "    match = cm.crossmatch(xt_base, xt_spec, radius=1)\n",
    "    match.table.to_csv(Path('outputs') / (path.stem + '_spec.csv'), index=False)\n",
    "    \n",
    "    \n",
    "    \n",
    "def download_cluster_cat(cluster_map):\n",
    "  query_template = \"\"\"\n",
    "  SELECT dual_g.ID, dual_g.RA, dual_g.DEC, dual_g.Field, \n",
    "        dual_g.g_auto, dual_r.r_auto, dual_i.i_auto, dual_r.r_aper_6,\n",
    "        photoz.zml, photoz.odds, morpho.PROB_GAL, '{cluster}' AS cluster\n",
    "  FROM\n",
    "  idr4_dual_g AS dual_g\n",
    "  INNER JOIN\n",
    "  idr4_dual_i AS dual_i ON dual_i.ID = dual_g.ID\n",
    "  INNER JOIN\n",
    "  idr4_dual_r AS dual_r ON dual_r.ID = dual_g.ID\n",
    "  INNER JOIN\n",
    "  idr4_photoz AS photoz ON photoz.ID = dual_g.ID\n",
    "  INNER JOIN\n",
    "  idr4_star_galaxy_quasar AS morpho ON morpho.ID = dual_g.ID\n",
    "  WHERE\n",
    "  dual_g.Field IN ({fields})\n",
    "  \"\"\"\n",
    "\n",
    "  queries = [\n",
    "    query_template.format(cluster=key, fields=\"'\" + \"','\".join(value) + \"'\") \n",
    "    for key, value in cluster_map.items()\n",
    "  ]\n",
    "  \n",
    "  print(queries[0])\n",
    "\n",
    "  sp = SplusService(username='natanael', password='natan')\n",
    "  save_paths = [Path('outputs') / f'cluster_{c}.csv' for c in cluster_map.keys()]\n",
    "  sp.batch_query(sql=queries, save_path=save_paths, replace=True, scope='private', workers=4)\n",
    "  \n",
    "  \n",
    "def concat_tables(paths, save_path):\n",
    "  df = pd.read_csv(paths[0])\n",
    "  \n",
    "  for i in tqdm(range(1, len(paths))):\n",
    "    df2 = pd.read_csv(paths[i])\n",
    "    df = pd.concat((df, df2), ignore_index=True)\n",
    "  \n",
    "  df = df[df.columns.drop(list(df.filter(regex='Unnamed:*')))]\n",
    "  df.to_csv(save_path, index=False)"
   ]
  },
  {
   "cell_type": "code",
   "execution_count": 6,
   "metadata": {},
   "outputs": [
    {
     "name": "stdout",
     "output_type": "stream",
     "text": [
      "\n",
      "  SELECT dual_g.ID, dual_g.RA, dual_g.DEC, dual_g.Field, \n",
      "        dual_g.g_auto, dual_r.r_auto, dual_i.i_auto, dual_r.r_aper_6,\n",
      "        photoz.zml, photoz.odds, morpho.PROB_GAL, 'A0147' AS cluster\n",
      "  FROM\n",
      "  idr4_dual_g AS dual_g\n",
      "  INNER JOIN\n",
      "  idr4_dual_i AS dual_i ON dual_i.ID = dual_g.ID\n",
      "  INNER JOIN\n",
      "  idr4_dual_r AS dual_r ON dual_r.ID = dual_g.ID\n",
      "  INNER JOIN\n",
      "  idr4_photoz AS photoz ON photoz.ID = dual_g.ID\n",
      "  INNER JOIN\n",
      "  idr4_star_galaxy_quasar AS morpho ON morpho.ID = dual_g.ID\n",
      "  WHERE\n",
      "  dual_g.Field IN ('STRIPE82-0024','STRIPE82-0026','STRIPE82-0028')\n",
      "  \n"
     ]
    },
    {
     "name": "stderr",
     "output_type": "stream",
     "text": [
      "100%|██████████| 27/27 [35:48<00:00, 79.56s/ files] \n",
      "/tmp/ipykernel_312341/816812855.py:2: DtypeWarning: Columns (4,6) have mixed types. Specify dtype option on import or set low_memory=False.\n",
      "  df_spec = pd.read_csv('SpecZ_Catalogue_20230830.csv')\n",
      "100%|██████████| 27/27 [01:39<00:00,  3.70s/it]\n"
     ]
    }
   ],
   "source": [
    "dfe = pd.read_csv('Tiles_for_Erik_clean.csv')\n",
    "dfe['available'] = dfe['available'].replace('False ', 'False')\n",
    "dfe['available'] = dfe['available'].replace('True ', 'True')\n",
    "dfe['NAME'] = dfe['NAME'].str.replace('_', '-')\n",
    "dfe = dfe[dfe['available'] == 'True']\n",
    "clusters = dfe['CLS_ID'].unique()\n",
    "cluster_map = {c: dfe[dfe['CLS_ID'] == c]['NAME'].to_list() for c in clusters}\n",
    "\n",
    "download_cluster_cat(cluster_map)\n",
    "create_spec_tables(clusters)"
   ]
  },
  {
   "cell_type": "code",
   "execution_count": 26,
   "metadata": {},
   "outputs": [
    {
     "name": "stderr",
     "output_type": "stream",
     "text": [
      "100%|██████████| 26/26 [00:00<00:00, 67.78it/s]\n"
     ]
    }
   ],
   "source": [
    "concat_tables(\n",
    "  paths=list(Path('outputs').glob('cluster_*_spec.csv')), \n",
    "  save_path=Path('outputs') / 'clusters_spec_all.csv'\n",
    ")"
   ]
  },
  {
   "cell_type": "code",
   "execution_count": 87,
   "metadata": {},
   "outputs": [
    {
     "name": "stderr",
     "output_type": "stream",
     "text": [
      "100%|██████████| 6/6 [01:33<00:00, 15.62s/ files]\n",
      "/tmp/ipykernel_260226/688061788.py:2: DtypeWarning: Columns (4,6) have mixed types. Specify dtype option on import or set low_memory=False.\n",
      "  df_spec = pd.read_csv('SpecZ_Catalogue_20230830.csv')\n"
     ]
    }
   ],
   "source": [
    "DATA = {\n",
    "    'A119': [\n",
    "      'STRIPE82-0017', 'STRIPE82-0018', 'STRIPE82-0019', 'STRIPE82-0020',\n",
    "      'STRIPE82-0021', 'STRIPE82-0022', 'STRIPE82-0023', 'STRIPE82-0025',\n",
    "    ],\n",
    "    'A147': [\n",
    "      'STRIPE82-0024', 'STRIPE82-0026', 'STRIPE82-0028',\n",
    "    ],\n",
    "    'A168': [\n",
    "      'STRIPE82-0027', 'STRIPE82-0029', 'STRIPE82-0030', 'STRIPE82-0031', \n",
    "      'STRIPE82-0032',\n",
    "    ],\n",
    "    'A194': [\n",
    "      'STRIPE82-0033', 'STRIPE82-0034', 'STRIPE82-0035', 'STRIPE82-0036',\n",
    "      'STRIPE82-0037', 'STRIPE82-0038',\n",
    "    ],\n",
    "    'A2457': [\n",
    "      'STRIPE82-0139', 'STRIPE82-0140', 'STRIPE82-0141', 'STRIPE82-0142',\n",
    "      'STRIPE82-0143', 'STRIPE82-0144',\n",
    "    ],\n",
    "    'IIZw108': [\n",
    "      'STRIPE82-0110', 'STRIPE82-0112', 'STRIPE82-0114', 'STRIPE82-0116',\n",
    "    ],\n",
    "  }\n",
    "download_cluster_cat(DATA)\n",
    "create_spec_tables()"
   ]
  },
  {
   "cell_type": "code",
   "execution_count": 160,
   "metadata": {},
   "outputs": [
    {
     "data": {
      "image/png": "[encoded data removed]",
      "text/plain": [
       "<Figure size 640x480 with 1 Axes>"
      ]
     },
     "metadata": {},
     "output_type": "display_data"
    }
   ],
   "source": [
    "CLUSTER = 'IIZw108'\n",
    "\n",
    "ranges = {\n",
    "  'A119': (0.03, 0.06),\n",
    "  'A147': (0.03, 0.06),\n",
    "  'A168': (0.03, 0.06),\n",
    "  'A194': (0.005, 0.035),\n",
    "  'A2457': (0.045, 0.075),\n",
    "  'IIZw108': (0.03, 0.06)\n",
    "}\n",
    "\n",
    "df = pd.read_csv(f'cluster_{CLUSTER}_spec.csv')\n",
    "\n",
    "# df_xmatch[df_xmatch['z'].between(0.03, 0.06)]['z'].hist(bins=40)\n",
    "# df_xmatch[df_xmatch['z'].between(0.03, 0.06)]['zml'].hist(bins=40)\n",
    "\n",
    "zml_filter = (df['r_aper_6'] < 21) & (df['PROB_GAL'] > 0.8) & (df['odds'] > 0.7)\n",
    "\n",
    "plt.hist(df['zml'], bins=40, range=ranges[CLUSTER], label='Photo Z (no filter)', histtype='step', linewidth=2)\n",
    "plt.hist(df['z'], bins=40, range=ranges[CLUSTER], label='Spec Z', histtype='step', linewidth=2)\n",
    "plt.hist(df[zml_filter]['zml'], bins=40, range=ranges[CLUSTER], label='Photo Z (odds > 0.8,\\nPgal > 0.7, r6 < 21)', histtype='step', linewidth=2)\n",
    "plt.title(CLUSTER)\n",
    "plt.legend()\n",
    "plt.savefig(f'{CLUSTER}_hist_f.png')\n",
    "# plt.show()\n",
    "\n",
    "# plt.hist(df_xmatch[df_xmatch['z'].between(0.045, 0.075)]['r_auto'], bins=30, range=(10, 25))\n",
    "# plt.show()"
   ]
  }
 ],
 "metadata": {
  "kernelspec": {
   "display_name": "Python 3",
   "language": "python",
   "name": "python3"
  },
  "language_info": {
   "codemirror_mode": {
    "name": "ipython",
    "version": 3
   },
   "file_extension": ".py",
   "mimetype": "text/x-python",
   "name": "python",
   "nbconvert_exporter": "python",
   "pygments_lexer": "ipython3",
   "version": "3.10.0"
  },
  "orig_nbformat": 4
 },
 "nbformat": 4,
 "nbformat_minor": 2
}
