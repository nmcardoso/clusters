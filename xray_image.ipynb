{
 "cells": [
  {
   "cell_type": "code",
   "execution_count": 5,
   "metadata": {},
   "outputs": [],
   "source": [
    "import pandas as pd\n",
    "import numpy as np\n",
    "import matplotlib.pyplot as plt\n",
    "from pathlib import Path\n",
    "from typing import List\n",
    "import requests\n",
    "import shutil\n",
    "from PIL import Image\n",
    "from tqdm import tqdm\n",
    "from io import BytesIO"
   ]
  },
  {
   "cell_type": "code",
   "execution_count": 6,
   "metadata": {},
   "outputs": [],
   "source": [
    "def get_url(cluster_name):\n",
    "  return f'http://zmtt.bao.ac.cn/galaxy_clusters/dyXimages/image_all/{cluster_name}_image.eps'\n",
    "\n",
    "\n",
    "def download_image(cluster_name, save_path):\n",
    "  resp = requests.get(get_url(cluster_name), stream=True)\n",
    "  with open(save_path, 'wb') as f:\n",
    "    resp.raw.decode_content = True\n",
    "    shutil.copyfileobj(resp.raw, f)"
   ]
  },
  {
   "cell_type": "code",
   "execution_count": 25,
   "metadata": {},
   "outputs": [
    {
     "name": "stderr",
     "output_type": "stream",
     "text": [
      "  0%|          | 0/37 [00:00<?, ?it/s]"
     ]
    },
    {
     "name": "stderr",
     "output_type": "stream",
     "text": [
      "100%|██████████| 37/37 [06:50<00:00, 11.10s/it]\n"
     ]
    }
   ],
   "source": [
    "df = pd.read_csv('tables/catalog_chinese_xray_xmatch_splus_z0.1.csv')\n",
    "for _, row in tqdm(df.iterrows(), total=len(df)):\n",
    "  name = row['name']\n",
    "  save_path = Path('public') / 'xray_images' / f'{name}.png'\n",
    "  resp = requests.get(get_url(name))\n",
    "  if resp.status_code == 200:\n",
    "    img = Image.open(BytesIO(resp.content))\n",
    "    img.load(scale=2, transparency=True)\n",
    "    img = img.rotate(-90, expand=True)\n",
    "    img = img.crop((60, 30, 765 + 60, 685 + 30))\n",
    "    img.save(save_path)"
   ]
  }
 ],
 "metadata": {
  "kernelspec": {
   "display_name": "clusters-VFbwmWfJ",
   "language": "python",
   "name": "python3"
  },
  "language_info": {
   "codemirror_mode": {
    "name": "ipython",
    "version": 3
   },
   "file_extension": ".py",
   "mimetype": "text/x-python",
   "name": "python",
   "nbconvert_exporter": "python",
   "pygments_lexer": "ipython3",
   "version": "3.10.0"
  }
 },
 "nbformat": 4,
 "nbformat_minor": 2
}
